{
 "cells": [
  {
   "cell_type": "code",
   "execution_count": 11,
   "id": "8c134694",
   "metadata": {},
   "outputs": [],
   "source": [
    "import random"
   ]
  },
  {
   "cell_type": "code",
   "execution_count": 12,
   "id": "3f3b1384",
   "metadata": {},
   "outputs": [
    {
     "data": {
      "text/plain": [
       "-37"
      ]
     },
     "execution_count": 12,
     "metadata": {},
     "output_type": "execute_result"
    }
   ],
   "source": [
    "# short for random integer\n",
    "random.randint(-90, 90)"
   ]
  },
  {
   "cell_type": "code",
   "execution_count": 13,
   "id": "d964a9dc",
   "metadata": {},
   "outputs": [
    {
     "data": {
      "text/plain": [
       "0.8415491517479088"
      ]
     },
     "execution_count": 13,
     "metadata": {},
     "output_type": "execute_result"
    }
   ],
   "source": [
    "#Using the random() function, we can get a single floating-point decimal number between 0 and 1.0.#\n",
    "#Add random.random() to a new cell and run the cell. Your output should be a decimal point number between 0 and 1.0, as shown below.\n",
    "random.random()\n"
   ]
  },
  {
   "cell_type": "code",
   "execution_count": 14,
   "id": "0ac7b797",
   "metadata": {},
   "outputs": [
    {
     "data": {
      "text/plain": [
       "11.19435430473578"
      ]
     },
     "execution_count": 14,
     "metadata": {},
     "output_type": "execute_result"
    }
   ],
   "source": [
    "#The random() function may help us. \n",
    "#This function returns only a floating-point decimal number between 0 and 1.0.\n",
    "#If we combine random.randint(-90, 89) and random.random() to generate a floating-point decimal between -90 and 90, \n",
    "#we can generate a random latitude. We changed the lower range of the randint() \n",
    "#because we want whole numbers up to 89, so when we add the floating-point decimal number, \n",
    "#we'll generate latitudes between –89.99999 and 89.99999.\n",
    "random_number = random.randint(-90, 89) + random.random()\n",
    "random_number"
   ]
  },
  {
   "cell_type": "code",
   "execution_count": 15,
   "id": "fa2a092c",
   "metadata": {},
   "outputs": [],
   "source": [
    "#In the code block above, we:\n",
    "\n",
    "#Assign the variable x to 1.\n",
    "#Initialize an empty list, latitudes.\n",
    "#We create a while loop where we generate a random latitude and add it to the list.\n",
    "#After the random latitude is added to the list we add one to the variable \"x\".\n",
    "#The while loop condition is checked again and will continue to run as long as x is less than 11.\n",
    "\n",
    "x = 1\n",
    "latitudes = []\n",
    "while x < 11:\n",
    "    random_lat = random.randint(-90, 89) + random.random()\n",
    "    latitudes.append(random_lat)\n",
    "    x += 1\n",
    "    "
   ]
  },
  {
   "cell_type": "code",
   "execution_count": 16,
   "id": "c75622b1",
   "metadata": {},
   "outputs": [
    {
     "data": {
      "text/plain": [
       "87"
      ]
     },
     "execution_count": 16,
     "metadata": {},
     "output_type": "execute_result"
    }
   ],
   "source": [
    "#Runs differently, add two #s lower and upper seperated by comma\n",
    "#option to add 'step' parameter to set it equal to integer, which will generate increments of given integer value.\n",
    "\n",
    "random.randrange(-90, 90, step=3)"
   ]
  },
  {
   "cell_type": "code",
   "execution_count": 17,
   "id": "533af2fe",
   "metadata": {},
   "outputs": [
    {
     "data": {
      "text/plain": [
       "70.65180441985274"
      ]
     },
     "execution_count": 17,
     "metadata": {},
     "output_type": "execute_result"
    }
   ],
   "source": [
    "#The uniform() function will allow us to generate a floating-point decimal number between two given numbers inside the parentheses\n",
    "random.uniform(-90, 90)"
   ]
  },
  {
   "cell_type": "code",
   "execution_count": 18,
   "id": "b9c7d9e1",
   "metadata": {},
   "outputs": [],
   "source": [
    "#Function\tOutput\tLimitation\n",
    "#randint(-90, 89)\tReturns an integer between the interval, -90 and up to 89.\tWill not generate a floating-point decimal number.\n",
    "#random()\tReturns a floating-point decimal number between 0 and 1.\tWill not generate a whole integer.\n",
    "#randrange(-90, 90, step=1)\tReturns a whole integer between the interval, -90 and 90 where the step is the difference between each number in the sequence.\tWill not generate a floating-point decimal number.\n",
    "#uniform(-90, 90)\tReturns a floating-point decimal number between the interval, -90 and 90.\tWill not generate a whole integer."
   ]
  },
  {
   "cell_type": "code",
   "execution_count": 19,
   "id": "9e592c68",
   "metadata": {},
   "outputs": [],
   "source": [
    "# Import the NumPy module. The NumPy module has a built-in random module, and supplements the built-in Python random module. There is no need to import the random module if we import the NumPy module, as it's redundant.\n",
    "import numpy as np \n"
   ]
  },
  {
   "cell_type": "code",
   "execution_count": 20,
   "id": "af87530c",
   "metadata": {},
   "outputs": [
    {
     "data": {
      "text/plain": [
       "62.953714632488044"
      ]
     },
     "execution_count": 20,
     "metadata": {},
     "output_type": "execute_result"
    }
   ],
   "source": [
    "#to generate a floating-point decimal number between -90.000 and 90.000. Adding the zeros past the decimal places \n",
    "#is optional.\n",
    "np.random.uniform(-90.000, 90.000)\n"
   ]
  },
  {
   "cell_type": "code",
   "execution_count": 10,
   "id": "887e21d9",
   "metadata": {},
   "outputs": [
    {
     "data": {
      "text/plain": [
       "array([-29.44388586, -74.20359757, -76.21868644,  42.55999091,\n",
       "        54.91526339,   5.7363305 ,  42.8039498 , -10.7983318 ,\n",
       "        24.35464097,  83.77033722,   2.95632129,  -4.78902212,\n",
       "        29.93998024,  86.89939457,  61.07658198, -13.00498982,\n",
       "       -61.87018586,  83.18415304, -78.28647223,  79.64866604,\n",
       "        74.86426221,  86.54666592,  -1.71988376, -36.41401828,\n",
       "        66.90306572, -75.1364847 ,  12.05203874, -70.90252676,\n",
       "        55.07243372,  81.29825612,  68.2473277 ,  48.91531388,\n",
       "       -83.76386949, -29.24573269,  21.46600157,  47.10645529,\n",
       "       -11.98213615, -31.04121705, -60.87042724,  28.78454081,\n",
       "        54.37973594, -15.72031176, -56.47759749,  44.57560402,\n",
       "       -82.75841831, -55.68136474, -58.35480352, -25.13160707,\n",
       "        30.07521577,  15.92729356])"
      ]
     },
     "execution_count": 10,
     "metadata": {},
     "output_type": "execute_result"
    }
   ],
   "source": [
    "#Will give a large amount of integers\n",
    "np.random.uniform(-90.000, 90.000, size=50)"
   ]
  },
  {
   "cell_type": "code",
   "execution_count": 21,
   "id": "1c58273d",
   "metadata": {},
   "outputs": [],
   "source": [
    "# Import timeit.\n",
    "import timeit"
   ]
  },
  {
   "cell_type": "code",
   "execution_count": 22,
   "id": "38045b1d",
   "metadata": {},
   "outputs": [
    {
     "name": "stdout",
     "output_type": "stream",
     "text": [
      "12.2 µs ± 98.2 ns per loop (mean ± std. dev. of 7 runs, 100,000 loops each)\n"
     ]
    }
   ],
   "source": [
    "#The output is the amount of time it took to run this code, which is an average of 14.6 microseconds. The amount of time it takes to run this code depends on the processing speed and the RAM of your computer.\n",
    "%timeit np.random.uniform(-90.000, 90.000, size=1500)\n"
   ]
  },
  {
   "cell_type": "code",
   "execution_count": 23,
   "id": "5bd95cbd",
   "metadata": {},
   "outputs": [
    {
     "name": "stdout",
     "output_type": "stream",
     "text": [
      "1.1 ms ± 2.8 µs per loop (mean ± std. dev. of 7 runs, 1,000 loops each)\n"
     ]
    }
   ],
   "source": [
    "def latitudes(size):\n",
    "    latitudes = []\n",
    "    x = 0\n",
    "    while x < (size):\n",
    "        random_lat = random.randint(-90, 90) + random.random()\n",
    "        latitudes.append(random_lat)\n",
    "        x += 1\n",
    "    return latitudes\n",
    "# Call the function with 1500.\n",
    "%timeit latitudes(1500)"
   ]
  },
  {
   "cell_type": "code",
   "execution_count": null,
   "id": "b296fd78",
   "metadata": {},
   "outputs": [],
   "source": [
    "#Skill Drill 6.1.4\n",
    "#Refactor the code for the while loop with the %timeit magic command \n",
    "#and write a for loop that will generate the 1,500 latitudes.\n"
   ]
  },
  {
   "cell_type": "code",
   "execution_count": null,
   "id": "0bf9e323",
   "metadata": {},
   "outputs": [],
   "source": []
  }
 ],
 "metadata": {
  "kernelspec": {
   "display_name": "Python 3 (ipykernel)",
   "language": "python",
   "name": "python3"
  },
  "language_info": {
   "codemirror_mode": {
    "name": "ipython",
    "version": 3
   },
   "file_extension": ".py",
   "mimetype": "text/x-python",
   "name": "python",
   "nbconvert_exporter": "python",
   "pygments_lexer": "ipython3",
   "version": "3.9.13"
  }
 },
 "nbformat": 4,
 "nbformat_minor": 5
}
